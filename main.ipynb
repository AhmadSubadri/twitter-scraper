{
 "cells": [
  {
   "cell_type": "code",
   "execution_count": 2,
   "metadata": {},
   "outputs": [
    {
     "ename": "ModuleNotFoundError",
     "evalue": "No module named 'requests_html'",
     "output_type": "error",
     "traceback": [
      "\u001b[1;31m---------------------------------------------------------------------------\u001b[0m",
      "\u001b[1;31mModuleNotFoundError\u001b[0m                       Traceback (most recent call last)",
      "\u001b[1;32m<ipython-input-2-06923ef6af2d>\u001b[0m in \u001b[0;36m<module>\u001b[1;34m\u001b[0m\n\u001b[1;32m----> 1\u001b[1;33m \u001b[1;32mfrom\u001b[0m \u001b[0mtwitter_scraper_helmi\u001b[0m \u001b[1;32mimport\u001b[0m \u001b[0mget_tweets\u001b[0m\u001b[1;33m\u001b[0m\u001b[1;33m\u001b[0m\u001b[0m\n\u001b[0m\u001b[0;32m      2\u001b[0m \u001b[1;33m\u001b[0m\u001b[0m\n\u001b[0;32m      3\u001b[0m \u001b[0mdata\u001b[0m \u001b[1;33m=\u001b[0m \u001b[1;33m[\u001b[0m\u001b[1;33m]\u001b[0m\u001b[1;33m\u001b[0m\u001b[1;33m\u001b[0m\u001b[0m\n\u001b[0;32m      4\u001b[0m \u001b[0merror\u001b[0m \u001b[1;33m=\u001b[0m \u001b[1;36m0\u001b[0m\u001b[1;33m\u001b[0m\u001b[1;33m\u001b[0m\u001b[0m\n\u001b[0;32m      5\u001b[0m \u001b[1;32mfor\u001b[0m \u001b[0mt\u001b[0m \u001b[1;32min\u001b[0m \u001b[0mget_tweets\u001b[0m\u001b[1;33m(\u001b[0m\u001b[1;34m'Mercu Buana Yogya'\u001b[0m\u001b[1;33m,\u001b[0m \u001b[0mpages\u001b[0m\u001b[1;33m=\u001b[0m\u001b[1;36m1\u001b[0m\u001b[1;33m)\u001b[0m\u001b[1;33m:\u001b[0m\u001b[1;33m\u001b[0m\u001b[1;33m\u001b[0m\u001b[0m\n",
      "\u001b[1;32m~\\Documents\\Scrapping Data\\twitter-scraper-master\\twitter_scraper_helmi.py\u001b[0m in \u001b[0;36m<module>\u001b[1;34m\u001b[0m\n\u001b[0;32m      1\u001b[0m \u001b[1;32mimport\u001b[0m \u001b[0mre\u001b[0m\u001b[1;33m\u001b[0m\u001b[1;33m\u001b[0m\u001b[0m\n\u001b[1;32m----> 2\u001b[1;33m \u001b[1;32mfrom\u001b[0m \u001b[0mrequests_html\u001b[0m \u001b[1;32mimport\u001b[0m \u001b[0mHTMLSession\u001b[0m\u001b[1;33m,\u001b[0m \u001b[0mHTML\u001b[0m\u001b[1;33m\u001b[0m\u001b[1;33m\u001b[0m\u001b[0m\n\u001b[0m\u001b[0;32m      3\u001b[0m \u001b[1;32mfrom\u001b[0m \u001b[0mdatetime\u001b[0m \u001b[1;32mimport\u001b[0m \u001b[0mdatetime\u001b[0m\u001b[1;33m\u001b[0m\u001b[1;33m\u001b[0m\u001b[0m\n\u001b[0;32m      4\u001b[0m \u001b[1;33m\u001b[0m\u001b[0m\n\u001b[0;32m      5\u001b[0m \u001b[0msession\u001b[0m \u001b[1;33m=\u001b[0m \u001b[0mHTMLSession\u001b[0m\u001b[1;33m(\u001b[0m\u001b[1;33m)\u001b[0m\u001b[1;33m\u001b[0m\u001b[1;33m\u001b[0m\u001b[0m\n",
      "\u001b[1;31mModuleNotFoundError\u001b[0m: No module named 'requests_html'"
     ]
    }
   ],
   "source": [
    "from twitter_scraper_helmi import get_tweets\n",
    "\n",
    "data = []\n",
    "error = 0\n",
    "for t in get_tweets('Mercu Buana Yogya', pages=1):\n",
    "    data.append(t)\n",
    "    if (t['status'] != 'ok'):\n",
    "        error += 1\n",
    "    \n",
    "print('tweet found: ', len(data))\n",
    "print('error: ', error)"
   ]
  },
  {
   "cell_type": "code",
   "execution_count": 2,
   "metadata": {},
   "outputs": [
    {
     "name": "stdout",
     "output_type": "stream",
     "text": [
      "Di tahun ke-8 ini, kita bersyukur dapat mengibaskan sayap ke negeri Paman Ho, Vietnam & apa yang kita perjuangkan memberikan dampak sosial di mancanegara.\n",
      "Mari kita buktikan bahwa #AnakBangsaBisa terus berkarya & berprestasi!\n",
      "Dari anak bangsa, untuk dunia. #SalamSatuAspalpic.twitter.com/RDK9x0nt3f \n",
      "\n",
      "#UdahWaktunya ubah muka asem karena vertibokek jadi senyum mesem-mesem karena pake GO-JEK.pic.twitter.com/ggFeHLNBNs \n",
      "\n",
      "Ada banyak pengorbanan yang tak terlihat di setiap perjalanan. Apresiasi kecil darimu berarti besar untuk mereka. Terima kasih @lavivrie & @rdynt_ telah berbagi cerita dan mengingatkan kembali, arti dan makna dari terima kasih. https://twitter.com/rdynt_/status/1057947780663005184 … \n",
      "\n",
      "Banyak cerita sederhana, lucu, menarik, bahkan inspiratif ketika berkendara bersama para mitra #DriverJempolan GO-JEK. Yuk, share cerita versi kamu dengan reply tweet ini dan menangkan voucher Rp200.000 untuk 5 pemenang! S & K:  http://bit.ly/skdriverjempolan …pic.twitter.com/TzwP6ZLZo8 \n",
      "\n",
      "Perkenalkan Abang Jefry. Pendiri Persatuan Driver GO-JEK Indonesia (PDGI). Kini, melalui forum yang ia dirikan, ada puluhan ribu mitra driver GO-JEK saling menjaga dan membantu di lintas kota operasional. Hebat sekali, ya! Punya cerita #DriverJempolan juga? Share & tag kita, ya!pic.twitter.com/1BnkFvnQ9X \n",
      "\n",
      "Coba sebutin nama hantumu!pic.twitter.com/Mh13mVQEN2 \n",
      "\n",
      "Jangan lewatin kesempatan terakhir dapet diskon ongkir dari GO-SEND! Klik  http://bit.ly/SENDBKLPKOCT  buat info lengkapnya!pic.twitter.com/iGKLlzbwEb \n",
      "\n",
      "#DriverJempolan GO-JEK in action!\n",
      "Terima kasih @nukman telah berbagi cerita inspiratif ini. \n",
      "Driver: Abdul Yasmin https://twitter.com/nukman/status/1057244682130845703 … \n",
      "\n",
      "Belanja perabotan rumah di @RupaRupaCom semakin hemat dikirim pake GO-SEND karena ada diskon ongkir! Cek info lengkapnya di  http://bit.ly/GOSENDRP2  ya!pic.twitter.com/FRTRz2d9mV \n",
      "\n",
      "Makin semangat belanja di @bukalapak karena GO-SEND kasih diskon ongkirnya! Gak percaya? Klik  http://bit.ly/SENDBKLPKOCT  sekarang!pic.twitter.com/Jn8mHFeyGc \n",
      "\n",
      "Terima kasih telah memberikan yang terbaik.\n",
      "Terima kasih atas perjuangannya.\n",
      "Kalian adalah kebanggaan Indonesia.\n",
      "Kita buktikan di lain waktu, kawan! \n",
      "#TimnasDaypic.twitter.com/1TNW1ELxuo \n",
      "\n",
      "Acara ulang tahun ga lengkap kalo ga tiup lilin bersama! \n",
      "Ini dia momennya yang dilanjut dengan dangdutan bareng dan menjadi penutup acara ini! \n",
      "#Kola8orasiTanpaBatas #CeritaGOJEKpic.twitter.com/LJKoqa2ECR \n",
      "\n",
      "Kami juga memberikan apresiasi kepada mitra yang memiliki prestasi gemilang yang dibagi menjadi beberapa kategori; mitra unggulan, mitra jempolan & mitra legend!\n",
      "#Kola8orasiTanpaBatas #CeritaGOJEKpic.twitter.com/1dMogQxi30 \n",
      "\n",
      "Dalam rangka ulang tahun GO-JEK ke-8, kita bersama para mitra mengadakan serangkaian acara syukuran, salah satunya festival untuk para mitra. Di sini  para mitra dan keluarga bisa nikmatin banyak banget kegiatan seru!\n",
      "#Kola8orasiTanpaBatas #CeritaGOJEKpic.twitter.com/SETHzxtHGZ \n",
      "\n",
      "[27 Oktober 2018] Ini dia keseruan Festival Mitra GO-JEK Jakarta Dihadiri ribuan mitra GO-JEK!\n",
      "#Kola8orasiTanpaBatas #CeritaGOJEKpic.twitter.com/fNBdxMLxsF \n",
      "\n",
      "Terima kasih ya selalu setia menggunakan GO-JEK dan mengapresiasi #DriverJempolan kami!  https://twitter.com/amrazing/status/1056382489059504128 … \n",
      "\n",
      "Kita tidak berbeda, kita itu satu, Indonesia. Selamat #HariSumpahPemuda.pic.twitter.com/8sX0mqk9Ei \n",
      "\n",
      "Senyum kamu, jadi senyum mereka.\n",
      "Obrolan kecilmu, hiburan mereka.\n",
      "Apresiasimu, motivasi mereka.\n",
      "#TerimaKasihDriver yang selalu ada di setiap perjalanan.pic.twitter.com/fRsT7ouEla \n",
      "\n",
      "Abang, Mpok, Mas, Mbak, Kak, Teteh, dan Aa, yuk memperpanjang rezeki sambil memperluas silaturahmi di acara tasyakur mitra GO-JEK sore ini! Sampai jumpa!pic.twitter.com/mAaZ7aigRm \n",
      "\n",
      "Pusing mikirin uang parkir, bensin, dan servis rutin kendaraan yang gak ada abisnya? Vertibokek tuh namanya, #UdahWaktunya naik GO-JEK biar hidup lebih efisien!pic.twitter.com/8hC2iyjUDl \n",
      "\n",
      "Selamat untuk garuda muda berhasil lolos ke perempat final. Kami bangga!\n",
      "#TimnasDay #TimnasU19pic.twitter.com/yzWrUFYQ04 \n",
      "\n"
     ]
    }
   ],
   "source": [
    "for i, t in enumerate(data):\n",
    "    print(t['tweet']['text'], '\\n')"
   ]
  },
  {
   "cell_type": "code",
   "execution_count": null,
   "metadata": {},
   "outputs": [],
   "source": []
  }
 ],
 "metadata": {
  "kernelspec": {
   "display_name": "Python 3",
   "language": "python",
   "name": "python3"
  },
  "language_info": {
   "codemirror_mode": {
    "name": "ipython",
    "version": 3
   },
   "file_extension": ".py",
   "mimetype": "text/x-python",
   "name": "python",
   "nbconvert_exporter": "python",
   "pygments_lexer": "ipython3",
   "version": "3.8.3"
  }
 },
 "nbformat": 4,
 "nbformat_minor": 2
}
